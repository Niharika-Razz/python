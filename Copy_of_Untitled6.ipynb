{
  "nbformat": 4,
  "nbformat_minor": 0,
  "metadata": {
    "colab": {
      "name": "Copy of Untitled6.ipynb",
      "provenance": [],
      "authorship_tag": "ABX9TyNgMyu9+xdoKPk8/N9Fkg5+",
      "include_colab_link": true
    },
    "kernelspec": {
      "name": "python3",
      "display_name": "Python 3"
    },
    "language_info": {
      "name": "python"
    }
  },
  "cells": [
    {
      "cell_type": "markdown",
      "metadata": {
        "id": "view-in-github",
        "colab_type": "text"
      },
      "source": [
        "<a href=\"https://colab.research.google.com/github/Niharika-Razz/python/blob/main/Copy_of_Untitled6.ipynb\" target=\"_parent\"><img src=\"https://colab.research.google.com/assets/colab-badge.svg\" alt=\"Open In Colab\"/></a>"
      ]
    },
    {
      "cell_type": "code",
      "execution_count": null,
      "metadata": {
        "colab": {
          "base_uri": "https://localhost:8080/"
        },
        "id": "Q8kmLLVaxwsj",
        "outputId": "d179eeed-3314-49b4-84ce-2efed20739f8"
      },
      "outputs": [
        {
          "output_type": "stream",
          "name": "stdout",
          "text": [
            "0    10\n",
            "1    20\n",
            "2    30\n",
            "dtype: int64\n"
          ]
        }
      ],
      "source": [
        "import pandas as pd\n",
        "s=pd.Series([10,20,30])\n",
        "print(s)"
      ]
    },
    {
      "cell_type": "code",
      "source": [
        "import pandas as pd\n",
        "s=pd.Series([10.3,20.56,30.8])\n",
        "print(s)"
      ],
      "metadata": {
        "colab": {
          "base_uri": "https://localhost:8080/"
        },
        "id": "xcELJz071LKc",
        "outputId": "79e3ecdf-c876-429d-e543-00ba0bd96813"
      },
      "execution_count": null,
      "outputs": [
        {
          "output_type": "stream",
          "name": "stdout",
          "text": [
            "0    10.30\n",
            "1    20.56\n",
            "2    30.80\n",
            "dtype: float64\n"
          ]
        }
      ]
    },
    {
      "cell_type": "code",
      "source": [
        "import pandas as pd\n",
        "s2=pd.Series([\"james\",\"bob\",\"rupa\"],index=[3,4,5])\n",
        "print(s2)"
      ],
      "metadata": {
        "colab": {
          "base_uri": "https://localhost:8080/"
        },
        "id": "QAKIbzGz1a4D",
        "outputId": "769d7194-f836-49fb-e9ee-967443c60c4e"
      },
      "execution_count": null,
      "outputs": [
        {
          "output_type": "stream",
          "name": "stdout",
          "text": [
            "3    james\n",
            "4      bob\n",
            "5     rupa\n",
            "dtype: object\n"
          ]
        }
      ]
    },
    {
      "cell_type": "code",
      "source": [
        "s2=pd.Series([1,2,3,4],index=[\"Feb\",\"mar\",\"apr\",\"may\"])\n",
        "print(s2)"
      ],
      "metadata": {
        "colab": {
          "base_uri": "https://localhost:8080/"
        },
        "id": "9rRD63Vr2ILM",
        "outputId": "742d9ef1-cc3d-4969-9268-5b17b5afa452"
      },
      "execution_count": null,
      "outputs": [
        {
          "output_type": "stream",
          "name": "stdout",
          "text": [
            "Feb    1\n",
            "mar    2\n",
            "apr    3\n",
            "may    4\n",
            "dtype: int64\n"
          ]
        }
      ]
    },
    {
      "cell_type": "code",
      "source": [
        "import numpy as np\n",
        "import pandas as pd\n",
        "arr1=np.array([1,2,3,4])\n",
        "s3=pd.Series(arr1)\n",
        "print(s3)"
      ],
      "metadata": {
        "colab": {
          "base_uri": "https://localhost:8080/"
        },
        "id": "i1DuQ-r_2rtt",
        "outputId": "20c03cf0-db4a-47fc-d793-a3644a392bc3"
      },
      "execution_count": null,
      "outputs": [
        {
          "output_type": "stream",
          "name": "stdout",
          "text": [
            "0    1\n",
            "1    2\n",
            "2    3\n",
            "3    4\n",
            "dtype: int64\n"
          ]
        }
      ]
    },
    {
      "cell_type": "code",
      "source": [
        "import numpy as np\n",
        "import pandas as pd\n",
        "arr1=np.array([6,4,3,10])\n",
        "s3=pd.Series(arr1)\n",
        "print(s3)"
      ],
      "metadata": {
        "colab": {
          "base_uri": "https://localhost:8080/"
        },
        "id": "GL_-Eize3aaK",
        "outputId": "f8c91308-e545-4cd8-b9d5-a58d17fe1bb6"
      },
      "execution_count": null,
      "outputs": [
        {
          "output_type": "stream",
          "name": "stdout",
          "text": [
            "0     6\n",
            "1     4\n",
            "2     3\n",
            "3    10\n",
            "dtype: int64\n"
          ]
        }
      ]
    },
    {
      "cell_type": "code",
      "source": [
        "import numpy as np\n",
        "import pandas as pd\n",
        "arr1=np.arange(1,10,2)\n",
        "s3=pd.Series(arr1)\n",
        "print(s3)"
      ],
      "metadata": {
        "colab": {
          "base_uri": "https://localhost:8080/"
        },
        "id": "T_-Vfu253lUr",
        "outputId": "8adeec27-c31f-4e89-d6b7-63b1181dc2e3"
      },
      "execution_count": null,
      "outputs": [
        {
          "output_type": "stream",
          "name": "stdout",
          "text": [
            "0    1\n",
            "1    3\n",
            "2    5\n",
            "3    7\n",
            "4    9\n",
            "dtype: int64\n"
          ]
        }
      ]
    },
    {
      "cell_type": "code",
      "source": [
        "import numpy as np\n",
        "import pandas as pd\n",
        "array1=np.array([2,4,6,6])\n",
        "s4=pd.Series(array1,index=[\"jan\",\"feb\",\"mar\",\"apr\"])\n",
        "print(s4)"
      ],
      "metadata": {
        "colab": {
          "base_uri": "https://localhost:8080/"
        },
        "id": "CYuji6US4FFc",
        "outputId": "6e3dd484-9b2e-4645-be22-a4ced1976b7c"
      },
      "execution_count": null,
      "outputs": [
        {
          "output_type": "stream",
          "name": "stdout",
          "text": [
            "jan    2\n",
            "feb    4\n",
            "mar    6\n",
            "apr    6\n",
            "dtype: int64\n"
          ]
        }
      ]
    },
    {
      "cell_type": "code",
      "source": [
        "dict1={\"india\":\"new delhi\",\"UK\":\"london\",\"japan\":\"tokyo\"}\n",
        "s5=pd.Series(dict1)\n",
        "print(s5)"
      ],
      "metadata": {
        "colab": {
          "base_uri": "https://localhost:8080/"
        },
        "id": "FeG8CrUA4w9N",
        "outputId": "278d0817-f7ca-4572-fd7c-74bf64db7222"
      },
      "execution_count": null,
      "outputs": [
        {
          "output_type": "stream",
          "name": "stdout",
          "text": [
            "india    new delhi\n",
            "UK          london\n",
            "japan        tokyo\n",
            "dtype: object\n"
          ]
        }
      ]
    },
    {
      "cell_type": "code",
      "source": [
        "sNum=pd.Series([1,4,3,5])\n",
        "sNum[2]"
      ],
      "metadata": {
        "colab": {
          "base_uri": "https://localhost:8080/"
        },
        "id": "0IAE4Z0r5Y86",
        "outputId": "3c3ef301-c19c-4f26-a06d-9de98d4e5867"
      },
      "execution_count": null,
      "outputs": [
        {
          "output_type": "execute_result",
          "data": {
            "text/plain": [
              "3"
            ]
          },
          "metadata": {},
          "execution_count": 17
        }
      ]
    },
    {
      "cell_type": "code",
      "source": [
        "snum=pd.Series([1,4,3,5])\n",
        "snum[2]"
      ],
      "metadata": {
        "colab": {
          "base_uri": "https://localhost:8080/"
        },
        "id": "724zjWeG6Q-L",
        "outputId": "8ecdb6d5-3fc8-4931-c7f8-00e8bc00cf32"
      },
      "execution_count": null,
      "outputs": [
        {
          "output_type": "execute_result",
          "data": {
            "text/plain": [
              "3"
            ]
          },
          "metadata": {},
          "execution_count": 18
        }
      ]
    },
    {
      "cell_type": "code",
      "source": [
        "s=pd.Series([1,2,3],index=[\"feb\",\"mar\",\"jun\"])\n",
        "s[\"jun\"]"
      ],
      "metadata": {
        "colab": {
          "base_uri": "https://localhost:8080/"
        },
        "id": "b_8WyTWk6c2D",
        "outputId": "f41c1801-4bc5-4c85-8ee1-ea12d4cee2c0"
      },
      "execution_count": null,
      "outputs": [
        {
          "output_type": "execute_result",
          "data": {
            "text/plain": [
              "3"
            ]
          },
          "metadata": {},
          "execution_count": 19
        }
      ]
    },
    {
      "cell_type": "code",
      "source": [
        "Cntry=pd.Series([\"new delhi\",\"washington\",\"london\",\"paris\"],index=[\"india\",\"usa\",\"uk\",\"france\"])\n",
        "Cntry[1:3]"
      ],
      "metadata": {
        "colab": {
          "base_uri": "https://localhost:8080/"
        },
        "id": "_E4Btze97IWD",
        "outputId": "798a1eb7-8aaf-4327-c50f-a72b0ba7e277"
      },
      "execution_count": null,
      "outputs": [
        {
          "output_type": "execute_result",
          "data": {
            "text/plain": [
              "usa    washington\n",
              "uk         london\n",
              "dtype: object"
            ]
          },
          "metadata": {},
          "execution_count": 23
        }
      ]
    },
    {
      "cell_type": "code",
      "source": [
        "Cntry=pd.Series([\"new delhi\",\"washington\",\"london\",\"paris\"],index=[\"india\",\"usa\",\"uk\",\"france\"])\n",
        "Cntry[::-1]"
      ],
      "metadata": {
        "colab": {
          "base_uri": "https://localhost:8080/"
        },
        "id": "UawGRYnx9DP7",
        "outputId": "7c4073bb-fd63-4d77-d61c-bf5efc643bef"
      },
      "execution_count": null,
      "outputs": [
        {
          "output_type": "execute_result",
          "data": {
            "text/plain": [
              "france         paris\n",
              "uk            london\n",
              "usa       washington\n",
              "india      new delhi\n",
              "dtype: object"
            ]
          },
          "metadata": {},
          "execution_count": 24
        }
      ]
    },
    {
      "cell_type": "code",
      "source": [
        "Cntry=pd.Series([\"new delhi\",\"washington\",\"london\",\"paris\"],index=[\"india\",\"usa\",\"uk\",\"france\"])\n",
        "Cntry.name=\"Capitals\"\n",
        "print(Cntry)\n"
      ],
      "metadata": {
        "colab": {
          "base_uri": "https://localhost:8080/"
        },
        "id": "CgyygBXn9fo7",
        "outputId": "0cd63dc4-ccca-48d7-8a93-a5427c0f58ed"
      },
      "execution_count": null,
      "outputs": [
        {
          "output_type": "stream",
          "name": "stdout",
          "text": [
            "india      new delhi\n",
            "usa       washington\n",
            "uk            london\n",
            "france         paris\n",
            "Name: Capitals, dtype: object\n"
          ]
        }
      ]
    },
    {
      "cell_type": "code",
      "source": [
        "Cntry=pd.Series([\"new delhi\",\"washington\",\"london\",\"paris\"],index=[\"india\",\"usa\",\"uk\",\"france\"])\n",
        "Cntry.index.name=\"countries\"\n",
        "print(Cntry)"
      ],
      "metadata": {
        "colab": {
          "base_uri": "https://localhost:8080/"
        },
        "id": "oMMCBvgp-jZz",
        "outputId": "3b74b574-1042-432e-fcf5-266782dec71a"
      },
      "execution_count": null,
      "outputs": [
        {
          "output_type": "stream",
          "name": "stdout",
          "text": [
            "countries\n",
            "india      new delhi\n",
            "usa       washington\n",
            "uk            london\n",
            "france         paris\n",
            "dtype: object\n"
          ]
        }
      ]
    },
    {
      "cell_type": "code",
      "source": [
        "print(Cntry.values)"
      ],
      "metadata": {
        "colab": {
          "base_uri": "https://localhost:8080/"
        },
        "id": "qbCqBlnx-0l8",
        "outputId": "ff31571e-9f36-4aac-da08-9118866db224"
      },
      "execution_count": null,
      "outputs": [
        {
          "output_type": "stream",
          "name": "stdout",
          "text": [
            "['new delhi' 'washington' 'london' 'paris']\n"
          ]
        }
      ]
    },
    {
      "cell_type": "code",
      "source": [
        "print(Cntry.size)"
      ],
      "metadata": {
        "colab": {
          "base_uri": "https://localhost:8080/"
        },
        "id": "TLnAAP_E-_K0",
        "outputId": "b76ee98a-62e4-4518-ec8b-615944e3aebd"
      },
      "execution_count": null,
      "outputs": [
        {
          "output_type": "stream",
          "name": "stdout",
          "text": [
            "4\n"
          ]
        }
      ]
    },
    {
      "cell_type": "code",
      "source": [
        "print(Cntry.empty)"
      ],
      "metadata": {
        "colab": {
          "base_uri": "https://localhost:8080/"
        },
        "id": "O-goVpKr_i7b",
        "outputId": "534cc443-69d2-4ee1-a724-a30168fa9061"
      },
      "execution_count": null,
      "outputs": [
        {
          "output_type": "stream",
          "name": "stdout",
          "text": [
            "False\n"
          ]
        }
      ]
    },
    {
      "cell_type": "code",
      "source": [
        "Cntry.head(2)"
      ],
      "metadata": {
        "colab": {
          "base_uri": "https://localhost:8080/"
        },
        "id": "0XOO66iv_rSq",
        "outputId": "f7827634-b4c0-4591-c5bc-7a2dae5c07ee"
      },
      "execution_count": null,
      "outputs": [
        {
          "output_type": "execute_result",
          "data": {
            "text/plain": [
              "countries\n",
              "india     new delhi\n",
              "usa      washington\n",
              "dtype: object"
            ]
          },
          "metadata": {},
          "execution_count": 30
        }
      ]
    },
    {
      "cell_type": "code",
      "source": [
        "Cntry.tail(2)"
      ],
      "metadata": {
        "colab": {
          "base_uri": "https://localhost:8080/"
        },
        "id": "_h6SJn2KAjKK",
        "outputId": "94ad888a-ede5-43b6-9a7e-03574921379f"
      },
      "execution_count": null,
      "outputs": [
        {
          "output_type": "execute_result",
          "data": {
            "text/plain": [
              "countries\n",
              "uk        london\n",
              "france     paris\n",
              "dtype: object"
            ]
          },
          "metadata": {},
          "execution_count": 31
        }
      ]
    },
    {
      "cell_type": "code",
      "source": [
        "s=pd.Series([1,2,3],index=[\"feb\",\"mar\",\"jun\"])\n",
        "s[\"feb\"]"
      ],
      "metadata": {
        "colab": {
          "base_uri": "https://localhost:8080/"
        },
        "id": "_f2N7xxk6vKz",
        "outputId": "1b658b3b-5c28-4392-f547-94250361f0dc"
      },
      "execution_count": null,
      "outputs": [
        {
          "output_type": "execute_result",
          "data": {
            "text/plain": [
              "1"
            ]
          },
          "metadata": {},
          "execution_count": 20
        }
      ]
    },
    {
      "cell_type": "code",
      "source": [
        "snum=pd.Series([1,3,2])\n",
        "snum[[0,2]]"
      ],
      "metadata": {
        "colab": {
          "base_uri": "https://localhost:8080/"
        },
        "id": "SFHTFp2x62jD",
        "outputId": "09f8f3c6-800d-4f20-f0cd-7be7104c3677"
      },
      "execution_count": null,
      "outputs": [
        {
          "output_type": "execute_result",
          "data": {
            "text/plain": [
              "0    1\n",
              "2    2\n",
              "dtype: int64"
            ]
          },
          "metadata": {},
          "execution_count": 21
        }
      ]
    },
    {
      "cell_type": "code",
      "source": [
        "import pandas as pd\n",
        "sA=pd.Series([1,2,3,4,5],index=['a','b','c','d','e'])\n",
        "sB=pd.Series([1000,2000,3000,4000,5000],index=['a','b','c','d','e'])\n",
        "sC=pd.Series([100,200,300,400,500],index=['z','y','a','e','c'])\n",
        "d=pd.DataFrame([sA,sB,sC])\n",
        "print(d)"
      ],
      "metadata": {
        "colab": {
          "base_uri": "https://localhost:8080/"
        },
        "id": "TyEOADdGBbf6",
        "outputId": "d1d71206-a83e-4b04-f733-1f35c27400bd"
      },
      "execution_count": null,
      "outputs": [
        {
          "output_type": "stream",
          "name": "stdout",
          "text": [
            "        a       b       c       d       e      z      y\n",
            "0     1.0     2.0     3.0     4.0     5.0    NaN    NaN\n",
            "1  1000.0  2000.0  3000.0  4000.0  5000.0    NaN    NaN\n",
            "2   300.0     NaN   500.0     NaN   400.0  100.0  200.0\n"
          ]
        }
      ]
    },
    {
      "cell_type": "code",
      "source": [
        "d=pd.DataFrame({\"x\":[1,2,3,4,5],\"y\":[10,20,30,40,50],\"z\":[12,34,45,56,67]});\n",
        "print(d)\n"
      ],
      "metadata": {
        "colab": {
          "base_uri": "https://localhost:8080/"
        },
        "id": "tUqSi_5UDc70",
        "outputId": "b8c4b5e8-991b-4675-efe3-d1e349106077"
      },
      "execution_count": null,
      "outputs": [
        {
          "output_type": "stream",
          "name": "stdout",
          "text": [
            "   x   y   z\n",
            "0  1  10  12\n",
            "1  2  20  34\n",
            "2  3  30  45\n",
            "3  4  40  56\n",
            "4  5  50  67\n"
          ]
        }
      ]
    },
    {
      "cell_type": "code",
      "source": [
        ""
      ],
      "metadata": {
        "id": "1RDReUcWFA-a"
      },
      "execution_count": null,
      "outputs": []
    }
  ]
}